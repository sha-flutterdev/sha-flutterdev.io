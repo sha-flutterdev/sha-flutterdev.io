{
 "cells": [
  {
   "cell_type": "code",
   "execution_count": 1,
   "metadata": {},
   "outputs": [],
   "source": [
    "#importing all the necessary packages\n",
    "import numpy as np\n",
    "import pandas as pd\n",
    "import matplotlib.pyplot as plt\n",
    "%matplotlib inline\n",
    "from matplotlib import style\n",
    "plt.style.use('ggplot')"
   ]
  },
  {
   "cell_type": "code",
   "execution_count": 2,
   "metadata": {},
   "outputs": [],
   "source": [
    "#reading the  datasets for diabetes \n",
    "data=pd.read_csv(\"dataset_and_model/framingham.csv\")"
   ]
  },
  {
   "cell_type": "code",
   "execution_count": 3,
   "metadata": {},
   "outputs": [
    {
     "name": "stdout",
     "output_type": "stream",
     "text": [
      "<class 'pandas.core.frame.DataFrame'>\n",
      "RangeIndex: 4238 entries, 0 to 4237\n",
      "Data columns (total 16 columns):\n",
      " #   Column           Non-Null Count  Dtype  \n",
      "---  ------           --------------  -----  \n",
      " 0   male             4238 non-null   int64  \n",
      " 1   age              4238 non-null   int64  \n",
      " 2   education        4133 non-null   float64\n",
      " 3   currentSmoker    4238 non-null   int64  \n",
      " 4   cigsPerDay       4209 non-null   float64\n",
      " 5   BPMeds           4185 non-null   float64\n",
      " 6   prevalentStroke  4238 non-null   int64  \n",
      " 7   prevalentHyp     4238 non-null   int64  \n",
      " 8   diabetes         4238 non-null   int64  \n",
      " 9   totChol          4188 non-null   float64\n",
      " 10  sysBP            4238 non-null   float64\n",
      " 11  diaBP            4238 non-null   float64\n",
      " 12  BMI              4219 non-null   float64\n",
      " 13  heartRate        4237 non-null   float64\n",
      " 14  glucose          3850 non-null   float64\n",
      " 15  TenYearCHD       4238 non-null   int64  \n",
      "dtypes: float64(9), int64(7)\n",
      "memory usage: 529.9 KB\n"
     ]
    }
   ],
   "source": [
    "#Displaying the information of the dataframe\n",
    "data.info()"
   ]
  },
  {
   "cell_type": "code",
   "execution_count": 4,
   "metadata": {},
   "outputs": [
    {
     "data": {
      "text/html": [
       "<div>\n",
       "<style scoped>\n",
       "    .dataframe tbody tr th:only-of-type {\n",
       "        vertical-align: middle;\n",
       "    }\n",
       "\n",
       "    .dataframe tbody tr th {\n",
       "        vertical-align: top;\n",
       "    }\n",
       "\n",
       "    .dataframe thead th {\n",
       "        text-align: right;\n",
       "    }\n",
       "</style>\n",
       "<table border=\"1\" class=\"dataframe\">\n",
       "  <thead>\n",
       "    <tr style=\"text-align: right;\">\n",
       "      <th></th>\n",
       "      <th>male</th>\n",
       "      <th>age</th>\n",
       "      <th>education</th>\n",
       "      <th>currentSmoker</th>\n",
       "      <th>cigsPerDay</th>\n",
       "      <th>BPMeds</th>\n",
       "      <th>prevalentStroke</th>\n",
       "      <th>prevalentHyp</th>\n",
       "      <th>diabetes</th>\n",
       "      <th>totChol</th>\n",
       "      <th>sysBP</th>\n",
       "      <th>diaBP</th>\n",
       "      <th>BMI</th>\n",
       "      <th>heartRate</th>\n",
       "      <th>glucose</th>\n",
       "      <th>TenYearCHD</th>\n",
       "    </tr>\n",
       "  </thead>\n",
       "  <tbody>\n",
       "    <tr>\n",
       "      <th>count</th>\n",
       "      <td>4238.000000</td>\n",
       "      <td>4238.000000</td>\n",
       "      <td>4133.000000</td>\n",
       "      <td>4238.000000</td>\n",
       "      <td>4209.000000</td>\n",
       "      <td>4185.000000</td>\n",
       "      <td>4238.000000</td>\n",
       "      <td>4238.000000</td>\n",
       "      <td>4238.000000</td>\n",
       "      <td>4188.000000</td>\n",
       "      <td>4238.000000</td>\n",
       "      <td>4238.000000</td>\n",
       "      <td>4219.000000</td>\n",
       "      <td>4237.000000</td>\n",
       "      <td>3850.000000</td>\n",
       "      <td>4238.000000</td>\n",
       "    </tr>\n",
       "    <tr>\n",
       "      <th>mean</th>\n",
       "      <td>0.429212</td>\n",
       "      <td>49.584946</td>\n",
       "      <td>1.978950</td>\n",
       "      <td>0.494101</td>\n",
       "      <td>9.003089</td>\n",
       "      <td>0.029630</td>\n",
       "      <td>0.005899</td>\n",
       "      <td>0.310524</td>\n",
       "      <td>0.025720</td>\n",
       "      <td>236.721585</td>\n",
       "      <td>132.352407</td>\n",
       "      <td>82.893464</td>\n",
       "      <td>25.802008</td>\n",
       "      <td>75.878924</td>\n",
       "      <td>81.966753</td>\n",
       "      <td>0.151958</td>\n",
       "    </tr>\n",
       "    <tr>\n",
       "      <th>std</th>\n",
       "      <td>0.495022</td>\n",
       "      <td>8.572160</td>\n",
       "      <td>1.019791</td>\n",
       "      <td>0.500024</td>\n",
       "      <td>11.920094</td>\n",
       "      <td>0.169584</td>\n",
       "      <td>0.076587</td>\n",
       "      <td>0.462763</td>\n",
       "      <td>0.158316</td>\n",
       "      <td>44.590334</td>\n",
       "      <td>22.038097</td>\n",
       "      <td>11.910850</td>\n",
       "      <td>4.080111</td>\n",
       "      <td>12.026596</td>\n",
       "      <td>23.959998</td>\n",
       "      <td>0.359023</td>\n",
       "    </tr>\n",
       "    <tr>\n",
       "      <th>min</th>\n",
       "      <td>0.000000</td>\n",
       "      <td>32.000000</td>\n",
       "      <td>1.000000</td>\n",
       "      <td>0.000000</td>\n",
       "      <td>0.000000</td>\n",
       "      <td>0.000000</td>\n",
       "      <td>0.000000</td>\n",
       "      <td>0.000000</td>\n",
       "      <td>0.000000</td>\n",
       "      <td>107.000000</td>\n",
       "      <td>83.500000</td>\n",
       "      <td>48.000000</td>\n",
       "      <td>15.540000</td>\n",
       "      <td>44.000000</td>\n",
       "      <td>40.000000</td>\n",
       "      <td>0.000000</td>\n",
       "    </tr>\n",
       "    <tr>\n",
       "      <th>25%</th>\n",
       "      <td>0.000000</td>\n",
       "      <td>42.000000</td>\n",
       "      <td>1.000000</td>\n",
       "      <td>0.000000</td>\n",
       "      <td>0.000000</td>\n",
       "      <td>0.000000</td>\n",
       "      <td>0.000000</td>\n",
       "      <td>0.000000</td>\n",
       "      <td>0.000000</td>\n",
       "      <td>206.000000</td>\n",
       "      <td>117.000000</td>\n",
       "      <td>75.000000</td>\n",
       "      <td>23.070000</td>\n",
       "      <td>68.000000</td>\n",
       "      <td>71.000000</td>\n",
       "      <td>0.000000</td>\n",
       "    </tr>\n",
       "    <tr>\n",
       "      <th>50%</th>\n",
       "      <td>0.000000</td>\n",
       "      <td>49.000000</td>\n",
       "      <td>2.000000</td>\n",
       "      <td>0.000000</td>\n",
       "      <td>0.000000</td>\n",
       "      <td>0.000000</td>\n",
       "      <td>0.000000</td>\n",
       "      <td>0.000000</td>\n",
       "      <td>0.000000</td>\n",
       "      <td>234.000000</td>\n",
       "      <td>128.000000</td>\n",
       "      <td>82.000000</td>\n",
       "      <td>25.400000</td>\n",
       "      <td>75.000000</td>\n",
       "      <td>78.000000</td>\n",
       "      <td>0.000000</td>\n",
       "    </tr>\n",
       "    <tr>\n",
       "      <th>75%</th>\n",
       "      <td>1.000000</td>\n",
       "      <td>56.000000</td>\n",
       "      <td>3.000000</td>\n",
       "      <td>1.000000</td>\n",
       "      <td>20.000000</td>\n",
       "      <td>0.000000</td>\n",
       "      <td>0.000000</td>\n",
       "      <td>1.000000</td>\n",
       "      <td>0.000000</td>\n",
       "      <td>263.000000</td>\n",
       "      <td>144.000000</td>\n",
       "      <td>89.875000</td>\n",
       "      <td>28.040000</td>\n",
       "      <td>83.000000</td>\n",
       "      <td>87.000000</td>\n",
       "      <td>0.000000</td>\n",
       "    </tr>\n",
       "    <tr>\n",
       "      <th>max</th>\n",
       "      <td>1.000000</td>\n",
       "      <td>70.000000</td>\n",
       "      <td>4.000000</td>\n",
       "      <td>1.000000</td>\n",
       "      <td>70.000000</td>\n",
       "      <td>1.000000</td>\n",
       "      <td>1.000000</td>\n",
       "      <td>1.000000</td>\n",
       "      <td>1.000000</td>\n",
       "      <td>696.000000</td>\n",
       "      <td>295.000000</td>\n",
       "      <td>142.500000</td>\n",
       "      <td>56.800000</td>\n",
       "      <td>143.000000</td>\n",
       "      <td>394.000000</td>\n",
       "      <td>1.000000</td>\n",
       "    </tr>\n",
       "  </tbody>\n",
       "</table>\n",
       "</div>"
      ],
      "text/plain": [
       "              male          age    education  currentSmoker   cigsPerDay  \\\n",
       "count  4238.000000  4238.000000  4133.000000    4238.000000  4209.000000   \n",
       "mean      0.429212    49.584946     1.978950       0.494101     9.003089   \n",
       "std       0.495022     8.572160     1.019791       0.500024    11.920094   \n",
       "min       0.000000    32.000000     1.000000       0.000000     0.000000   \n",
       "25%       0.000000    42.000000     1.000000       0.000000     0.000000   \n",
       "50%       0.000000    49.000000     2.000000       0.000000     0.000000   \n",
       "75%       1.000000    56.000000     3.000000       1.000000    20.000000   \n",
       "max       1.000000    70.000000     4.000000       1.000000    70.000000   \n",
       "\n",
       "            BPMeds  prevalentStroke  prevalentHyp     diabetes      totChol  \\\n",
       "count  4185.000000      4238.000000   4238.000000  4238.000000  4188.000000   \n",
       "mean      0.029630         0.005899      0.310524     0.025720   236.721585   \n",
       "std       0.169584         0.076587      0.462763     0.158316    44.590334   \n",
       "min       0.000000         0.000000      0.000000     0.000000   107.000000   \n",
       "25%       0.000000         0.000000      0.000000     0.000000   206.000000   \n",
       "50%       0.000000         0.000000      0.000000     0.000000   234.000000   \n",
       "75%       0.000000         0.000000      1.000000     0.000000   263.000000   \n",
       "max       1.000000         1.000000      1.000000     1.000000   696.000000   \n",
       "\n",
       "             sysBP        diaBP          BMI    heartRate      glucose  \\\n",
       "count  4238.000000  4238.000000  4219.000000  4237.000000  3850.000000   \n",
       "mean    132.352407    82.893464    25.802008    75.878924    81.966753   \n",
       "std      22.038097    11.910850     4.080111    12.026596    23.959998   \n",
       "min      83.500000    48.000000    15.540000    44.000000    40.000000   \n",
       "25%     117.000000    75.000000    23.070000    68.000000    71.000000   \n",
       "50%     128.000000    82.000000    25.400000    75.000000    78.000000   \n",
       "75%     144.000000    89.875000    28.040000    83.000000    87.000000   \n",
       "max     295.000000   142.500000    56.800000   143.000000   394.000000   \n",
       "\n",
       "        TenYearCHD  \n",
       "count  4238.000000  \n",
       "mean      0.151958  \n",
       "std       0.359023  \n",
       "min       0.000000  \n",
       "25%       0.000000  \n",
       "50%       0.000000  \n",
       "75%       0.000000  \n",
       "max       1.000000  "
      ]
     },
     "execution_count": 4,
     "metadata": {},
     "output_type": "execute_result"
    }
   ],
   "source": [
    "data.describe()"
   ]
  },
  {
   "cell_type": "code",
   "execution_count": 5,
   "metadata": {},
   "outputs": [
    {
     "data": {
      "text/plain": [
       "male               False\n",
       "age                False\n",
       "education           True\n",
       "currentSmoker      False\n",
       "cigsPerDay          True\n",
       "BPMeds              True\n",
       "prevalentStroke    False\n",
       "prevalentHyp       False\n",
       "diabetes           False\n",
       "totChol             True\n",
       "sysBP              False\n",
       "diaBP              False\n",
       "BMI                 True\n",
       "heartRate           True\n",
       "glucose             True\n",
       "TenYearCHD         False\n",
       "dtype: bool"
      ]
     },
     "execution_count": 5,
     "metadata": {},
     "output_type": "execute_result"
    }
   ],
   "source": [
    "data.isnull().any()"
   ]
  },
  {
   "cell_type": "code",
   "execution_count": 6,
   "metadata": {},
   "outputs": [
    {
     "data": {
      "text/plain": [
       "male                 0\n",
       "age                  0\n",
       "education          105\n",
       "currentSmoker        0\n",
       "cigsPerDay          29\n",
       "BPMeds              53\n",
       "prevalentStroke      0\n",
       "prevalentHyp         0\n",
       "diabetes             0\n",
       "totChol             50\n",
       "sysBP                0\n",
       "diaBP                0\n",
       "BMI                 19\n",
       "heartRate            1\n",
       "glucose            388\n",
       "TenYearCHD           0\n",
       "dtype: int64"
      ]
     },
     "execution_count": 6,
     "metadata": {},
     "output_type": "execute_result"
    }
   ],
   "source": [
    "data.isnull().sum()"
   ]
  },
  {
   "cell_type": "code",
   "execution_count": 7,
   "metadata": {},
   "outputs": [],
   "source": [
    "data.drop(columns=['education'],inplace=True)"
   ]
  },
  {
   "cell_type": "code",
   "execution_count": 8,
   "metadata": {},
   "outputs": [
    {
     "data": {
      "text/plain": [
       "male                 0\n",
       "age                  0\n",
       "currentSmoker        0\n",
       "cigsPerDay          29\n",
       "BPMeds              53\n",
       "prevalentStroke      0\n",
       "prevalentHyp         0\n",
       "diabetes             0\n",
       "totChol             50\n",
       "sysBP                0\n",
       "diaBP                0\n",
       "BMI                 19\n",
       "heartRate            1\n",
       "glucose            388\n",
       "TenYearCHD           0\n",
       "dtype: int64"
      ]
     },
     "execution_count": 8,
     "metadata": {},
     "output_type": "execute_result"
    }
   ],
   "source": [
    "data.isnull().sum()"
   ]
  },
  {
   "cell_type": "code",
   "execution_count": 9,
   "metadata": {},
   "outputs": [],
   "source": [
    "data.dropna(inplace=True)"
   ]
  },
  {
   "cell_type": "code",
   "execution_count": 10,
   "metadata": {},
   "outputs": [
    {
     "data": {
      "text/plain": [
       "male               0\n",
       "age                0\n",
       "currentSmoker      0\n",
       "cigsPerDay         0\n",
       "BPMeds             0\n",
       "prevalentStroke    0\n",
       "prevalentHyp       0\n",
       "diabetes           0\n",
       "totChol            0\n",
       "sysBP              0\n",
       "diaBP              0\n",
       "BMI                0\n",
       "heartRate          0\n",
       "glucose            0\n",
       "TenYearCHD         0\n",
       "dtype: int64"
      ]
     },
     "execution_count": 10,
     "metadata": {},
     "output_type": "execute_result"
    }
   ],
   "source": [
    "data.isnull().sum()"
   ]
  },
  {
   "cell_type": "code",
   "execution_count": 11,
   "metadata": {},
   "outputs": [
    {
     "name": "stdout",
     "output_type": "stream",
     "text": [
      "<class 'pandas.core.frame.DataFrame'>\n",
      "Int64Index: 3749 entries, 0 to 4237\n",
      "Data columns (total 15 columns):\n",
      " #   Column           Non-Null Count  Dtype  \n",
      "---  ------           --------------  -----  \n",
      " 0   male             3749 non-null   int64  \n",
      " 1   age              3749 non-null   int64  \n",
      " 2   currentSmoker    3749 non-null   int64  \n",
      " 3   cigsPerDay       3749 non-null   float64\n",
      " 4   BPMeds           3749 non-null   float64\n",
      " 5   prevalentStroke  3749 non-null   int64  \n",
      " 6   prevalentHyp     3749 non-null   int64  \n",
      " 7   diabetes         3749 non-null   int64  \n",
      " 8   totChol          3749 non-null   float64\n",
      " 9   sysBP            3749 non-null   float64\n",
      " 10  diaBP            3749 non-null   float64\n",
      " 11  BMI              3749 non-null   float64\n",
      " 12  heartRate        3749 non-null   float64\n",
      " 13  glucose          3749 non-null   float64\n",
      " 14  TenYearCHD       3749 non-null   int64  \n",
      "dtypes: float64(8), int64(7)\n",
      "memory usage: 468.6 KB\n"
     ]
    }
   ],
   "source": [
    "data.info()"
   ]
  },
  {
   "cell_type": "code",
   "execution_count": 12,
   "metadata": {},
   "outputs": [
    {
     "data": {
      "text/plain": [
       "Index(['male', 'age', 'currentSmoker', 'cigsPerDay', 'BPMeds',\n",
       "       'prevalentStroke', 'prevalentHyp', 'diabetes', 'totChol', 'sysBP',\n",
       "       'diaBP', 'BMI', 'heartRate', 'glucose', 'TenYearCHD'],\n",
       "      dtype='object')"
      ]
     },
     "execution_count": 12,
     "metadata": {},
     "output_type": "execute_result"
    }
   ],
   "source": [
    "data.columns"
   ]
  },
  {
   "cell_type": "code",
   "execution_count": 13,
   "metadata": {},
   "outputs": [
    {
     "data": {
      "image/png": "[encoded data removed]",
      "text/plain": [
       "<Figure size 720x360 with 1 Axes>"
      ]
     },
     "metadata": {},
     "output_type": "display_data"
    }
   ],
   "source": [
    "plt.figure(figsize=(10,5))\n",
    "pd.value_counts(data['TenYearCHD']).sort_index().plot(kind='bar',color=['orange','lightgreen'])\n",
    "plt.title('Heart disease data')\n",
    "plt.xlabel('Presence of Heart disease')\n",
    "plt.ylabel('No of patients')\n",
    "plt.xticks([0,1],['No Heart disease','Heart disease'],rotation=0)\n",
    "plt.show()"
   ]
  },
  {
   "cell_type": "code",
   "execution_count": 14,
   "metadata": {},
   "outputs": [
    {
     "data": {
      "image/png": "[encoded data removed]",
      "text/plain": [
       "<Figure size 1152x432 with 1 Axes>"
      ]
     },
     "metadata": {},
     "output_type": "display_data"
    }
   ],
   "source": [
    "plt.figure(figsize=(16,6))\n",
    "pd.value_counts(data['age'][data['TenYearCHD']==1]).sort_index().plot(kind='bar',color='blue')\n",
    "plt.title('Age group of people who got affected')\n",
    "plt.xlabel('Age range')\n",
    "plt.ylabel('No of patients')\n",
    "plt.xticks(rotation=0)\n",
    "plt.show()"
   ]
  },
  {
   "cell_type": "code",
   "execution_count": 15,
   "metadata": {},
   "outputs": [
    {
     "data": {
      "image/png": "[encoded data removed]",
      "text/plain": [
       "<Figure size 1152x432 with 1 Axes>"
      ]
     },
     "metadata": {},
     "output_type": "display_data"
    }
   ],
   "source": [
    "plt.figure(figsize=(16,6))\n",
    "pd.value_counts(data['age'][data['TenYearCHD']==1]).sort_index().plot(kind='hist',color='blue',rwidth=0.8)\n",
    "plt.title('Age group of people who got affected in histogram')\n",
    "plt.xlabel('Age range')\n",
    "plt.ylabel('No of patients')\n",
    "plt.xticks(rotation=0)\n",
    "plt.show()"
   ]
  },
  {
   "cell_type": "code",
   "execution_count": 16,
   "metadata": {},
   "outputs": [
    {
     "data": {
      "text/html": [
       "<div>\n",
       "<style scoped>\n",
       "    .dataframe tbody tr th:only-of-type {\n",
       "        vertical-align: middle;\n",
       "    }\n",
       "\n",
       "    .dataframe tbody tr th {\n",
       "        vertical-align: top;\n",
       "    }\n",
       "\n",
       "    .dataframe thead th {\n",
       "        text-align: right;\n",
       "    }\n",
       "</style>\n",
       "<table border=\"1\" class=\"dataframe\">\n",
       "  <thead>\n",
       "    <tr style=\"text-align: right;\">\n",
       "      <th></th>\n",
       "      <th>male</th>\n",
       "      <th>age</th>\n",
       "      <th>currentSmoker</th>\n",
       "      <th>cigsPerDay</th>\n",
       "      <th>BPMeds</th>\n",
       "      <th>prevalentStroke</th>\n",
       "      <th>prevalentHyp</th>\n",
       "      <th>diabetes</th>\n",
       "      <th>totChol</th>\n",
       "      <th>sysBP</th>\n",
       "      <th>diaBP</th>\n",
       "      <th>BMI</th>\n",
       "      <th>heartRate</th>\n",
       "      <th>glucose</th>\n",
       "      <th>TenYearCHD</th>\n",
       "    </tr>\n",
       "  </thead>\n",
       "  <tbody>\n",
       "    <tr>\n",
       "      <th>count</th>\n",
       "      <td>3749.000000</td>\n",
       "      <td>3749.000000</td>\n",
       "      <td>3749.000000</td>\n",
       "      <td>3749.000000</td>\n",
       "      <td>3749.000000</td>\n",
       "      <td>3749.000000</td>\n",
       "      <td>3749.000000</td>\n",
       "      <td>3749.000000</td>\n",
       "      <td>3749.000000</td>\n",
       "      <td>3749.000000</td>\n",
       "      <td>3749.000000</td>\n",
       "      <td>3749.000000</td>\n",
       "      <td>3749.000000</td>\n",
       "      <td>3749.000000</td>\n",
       "      <td>3749.000000</td>\n",
       "    </tr>\n",
       "    <tr>\n",
       "      <th>mean</th>\n",
       "      <td>0.445185</td>\n",
       "      <td>49.578821</td>\n",
       "      <td>0.488397</td>\n",
       "      <td>9.005335</td>\n",
       "      <td>0.030408</td>\n",
       "      <td>0.005601</td>\n",
       "      <td>0.311816</td>\n",
       "      <td>0.027207</td>\n",
       "      <td>236.952787</td>\n",
       "      <td>132.365964</td>\n",
       "      <td>82.933716</td>\n",
       "      <td>25.809651</td>\n",
       "      <td>75.703921</td>\n",
       "      <td>81.883169</td>\n",
       "      <td>0.152574</td>\n",
       "    </tr>\n",
       "    <tr>\n",
       "      <th>std</th>\n",
       "      <td>0.497053</td>\n",
       "      <td>8.569322</td>\n",
       "      <td>0.499932</td>\n",
       "      <td>11.922440</td>\n",
       "      <td>0.171730</td>\n",
       "      <td>0.074643</td>\n",
       "      <td>0.463297</td>\n",
       "      <td>0.162709</td>\n",
       "      <td>44.610417</td>\n",
       "      <td>22.051951</td>\n",
       "      <td>11.933321</td>\n",
       "      <td>4.065894</td>\n",
       "      <td>11.957763</td>\n",
       "      <td>23.888039</td>\n",
       "      <td>0.359624</td>\n",
       "    </tr>\n",
       "    <tr>\n",
       "      <th>min</th>\n",
       "      <td>0.000000</td>\n",
       "      <td>32.000000</td>\n",
       "      <td>0.000000</td>\n",
       "      <td>0.000000</td>\n",
       "      <td>0.000000</td>\n",
       "      <td>0.000000</td>\n",
       "      <td>0.000000</td>\n",
       "      <td>0.000000</td>\n",
       "      <td>113.000000</td>\n",
       "      <td>83.500000</td>\n",
       "      <td>48.000000</td>\n",
       "      <td>15.540000</td>\n",
       "      <td>44.000000</td>\n",
       "      <td>40.000000</td>\n",
       "      <td>0.000000</td>\n",
       "    </tr>\n",
       "    <tr>\n",
       "      <th>25%</th>\n",
       "      <td>0.000000</td>\n",
       "      <td>42.000000</td>\n",
       "      <td>0.000000</td>\n",
       "      <td>0.000000</td>\n",
       "      <td>0.000000</td>\n",
       "      <td>0.000000</td>\n",
       "      <td>0.000000</td>\n",
       "      <td>0.000000</td>\n",
       "      <td>206.000000</td>\n",
       "      <td>117.000000</td>\n",
       "      <td>75.000000</td>\n",
       "      <td>23.090000</td>\n",
       "      <td>68.000000</td>\n",
       "      <td>71.000000</td>\n",
       "      <td>0.000000</td>\n",
       "    </tr>\n",
       "    <tr>\n",
       "      <th>50%</th>\n",
       "      <td>0.000000</td>\n",
       "      <td>49.000000</td>\n",
       "      <td>0.000000</td>\n",
       "      <td>0.000000</td>\n",
       "      <td>0.000000</td>\n",
       "      <td>0.000000</td>\n",
       "      <td>0.000000</td>\n",
       "      <td>0.000000</td>\n",
       "      <td>234.000000</td>\n",
       "      <td>128.000000</td>\n",
       "      <td>82.000000</td>\n",
       "      <td>25.410000</td>\n",
       "      <td>75.000000</td>\n",
       "      <td>78.000000</td>\n",
       "      <td>0.000000</td>\n",
       "    </tr>\n",
       "    <tr>\n",
       "      <th>75%</th>\n",
       "      <td>1.000000</td>\n",
       "      <td>56.000000</td>\n",
       "      <td>1.000000</td>\n",
       "      <td>20.000000</td>\n",
       "      <td>0.000000</td>\n",
       "      <td>0.000000</td>\n",
       "      <td>1.000000</td>\n",
       "      <td>0.000000</td>\n",
       "      <td>264.000000</td>\n",
       "      <td>144.000000</td>\n",
       "      <td>90.000000</td>\n",
       "      <td>28.060000</td>\n",
       "      <td>82.000000</td>\n",
       "      <td>87.000000</td>\n",
       "      <td>0.000000</td>\n",
       "    </tr>\n",
       "    <tr>\n",
       "      <th>max</th>\n",
       "      <td>1.000000</td>\n",
       "      <td>70.000000</td>\n",
       "      <td>1.000000</td>\n",
       "      <td>70.000000</td>\n",
       "      <td>1.000000</td>\n",
       "      <td>1.000000</td>\n",
       "      <td>1.000000</td>\n",
       "      <td>1.000000</td>\n",
       "      <td>696.000000</td>\n",
       "      <td>295.000000</td>\n",
       "      <td>142.500000</td>\n",
       "      <td>56.800000</td>\n",
       "      <td>143.000000</td>\n",
       "      <td>394.000000</td>\n",
       "      <td>1.000000</td>\n",
       "    </tr>\n",
       "  </tbody>\n",
       "</table>\n",
       "</div>"
      ],
      "text/plain": [
       "              male          age  currentSmoker   cigsPerDay       BPMeds  \\\n",
       "count  3749.000000  3749.000000    3749.000000  3749.000000  3749.000000   \n",
       "mean      0.445185    49.578821       0.488397     9.005335     0.030408   \n",
       "std       0.497053     8.569322       0.499932    11.922440     0.171730   \n",
       "min       0.000000    32.000000       0.000000     0.000000     0.000000   \n",
       "25%       0.000000    42.000000       0.000000     0.000000     0.000000   \n",
       "50%       0.000000    49.000000       0.000000     0.000000     0.000000   \n",
       "75%       1.000000    56.000000       1.000000    20.000000     0.000000   \n",
       "max       1.000000    70.000000       1.000000    70.000000     1.000000   \n",
       "\n",
       "       prevalentStroke  prevalentHyp     diabetes      totChol        sysBP  \\\n",
       "count      3749.000000   3749.000000  3749.000000  3749.000000  3749.000000   \n",
       "mean          0.005601      0.311816     0.027207   236.952787   132.365964   \n",
       "std           0.074643      0.463297     0.162709    44.610417    22.051951   \n",
       "min           0.000000      0.000000     0.000000   113.000000    83.500000   \n",
       "25%           0.000000      0.000000     0.000000   206.000000   117.000000   \n",
       "50%           0.000000      0.000000     0.000000   234.000000   128.000000   \n",
       "75%           0.000000      1.000000     0.000000   264.000000   144.000000   \n",
       "max           1.000000      1.000000     1.000000   696.000000   295.000000   \n",
       "\n",
       "             diaBP          BMI    heartRate      glucose   TenYearCHD  \n",
       "count  3749.000000  3749.000000  3749.000000  3749.000000  3749.000000  \n",
       "mean     82.933716    25.809651    75.703921    81.883169     0.152574  \n",
       "std      11.933321     4.065894    11.957763    23.888039     0.359624  \n",
       "min      48.000000    15.540000    44.000000    40.000000     0.000000  \n",
       "25%      75.000000    23.090000    68.000000    71.000000     0.000000  \n",
       "50%      82.000000    25.410000    75.000000    78.000000     0.000000  \n",
       "75%      90.000000    28.060000    82.000000    87.000000     0.000000  \n",
       "max     142.500000    56.800000   143.000000   394.000000     1.000000  "
      ]
     },
     "execution_count": 16,
     "metadata": {},
     "output_type": "execute_result"
    }
   ],
   "source": [
    "data.describe()"
   ]
  },
  {
   "cell_type": "code",
   "execution_count": 17,
   "metadata": {},
   "outputs": [
    {
     "data": {
      "text/plain": [
       "Index(['male', 'age', 'currentSmoker', 'cigsPerDay', 'BPMeds',\n",
       "       'prevalentStroke', 'prevalentHyp', 'diabetes', 'totChol', 'sysBP',\n",
       "       'diaBP', 'BMI', 'heartRate', 'glucose', 'TenYearCHD'],\n",
       "      dtype='object')"
      ]
     },
     "execution_count": 17,
     "metadata": {},
     "output_type": "execute_result"
    }
   ],
   "source": [
    "data.columns"
   ]
  },
  {
   "cell_type": "code",
   "execution_count": null,
   "metadata": {},
   "outputs": [],
   "source": []
  },
  {
   "cell_type": "code",
   "execution_count": 18,
   "metadata": {},
   "outputs": [
    {
     "name": "stdout",
     "output_type": "stream",
     "text": [
      "Outcome 0: (3177, 15)\n",
      "Outcome 1: (572, 15)\n"
     ]
    }
   ],
   "source": [
    "#Random Over-Sampling\n",
    "\n",
    "# class count\n",
    "class_count_0, class_count_1 = data['TenYearCHD'].value_counts()\n",
    "\n",
    "# Separate class\n",
    "class_0 = data[data['TenYearCHD'] == 0]\n",
    "class_1 = data[data['TenYearCHD'] == 1]\n",
    "# print the shape of the class\n",
    "print('Outcome 0:', class_0.shape)\n",
    "print('Outcome 1:', class_1.shape)"
   ]
  },
  {
   "cell_type": "code",
   "execution_count": 19,
   "metadata": {},
   "outputs": [
    {
     "data": {
      "image/png": "[encoded data removed]",
      "text/plain": [
       "<Figure size 720x360 with 1 Axes>"
      ]
     },
     "metadata": {},
     "output_type": "display_data"
    }
   ],
   "source": [
    "plt.figure(figsize=(10,5))\n",
    "pd.value_counts(data['TenYearCHD']).sort_index().plot(kind='bar',color=['orange','lightgreen'])\n",
    "plt.title('Heart disease data')\n",
    "plt.xlabel('Presence of Heart disease')\n",
    "plt.ylabel('No of patients')\n",
    "plt.xticks([0,1],['No Heart disease','Heart disease'],rotation=0)\n",
    "plt.show()"
   ]
  },
  {
   "cell_type": "code",
   "execution_count": 20,
   "metadata": {},
   "outputs": [
    {
     "name": "stdout",
     "output_type": "stream",
     "text": [
      "total class of 1 and 0: 1    3177\n",
      "0    3177\n",
      "Name: TenYearCHD, dtype: int64\n"
     ]
    },
    {
     "data": {
      "image/png": "[encoded data removed]",
      "text/plain": [
       "<Figure size 720x360 with 1 Axes>"
      ]
     },
     "metadata": {},
     "output_type": "display_data"
    }
   ],
   "source": [
    "class_1_over = class_1.sample(class_count_0, replace=True)\n",
    "test_over = pd.concat([class_1_over, class_0], axis=0)\n",
    "print(\"total class of 1 and 0:\",test_over['TenYearCHD'].value_counts())# plot the count after under-sampeling\n",
    "plt.figure(figsize=(10,5))\n",
    "pd.value_counts(test_over['TenYearCHD']).sort_index().plot(kind='bar', title='count (target)',color=['orange','lightgreen'])\n",
    "plt.xticks([0,1],['No Heart disease','Heart disease'],rotation=0)\n",
    "plt.xlabel('Presence of Heart disease')\n",
    "plt.ylabel('No of patients')\n",
    "plt.show()"
   ]
  },
  {
   "cell_type": "code",
   "execution_count": 21,
   "metadata": {},
   "outputs": [],
   "source": [
    "data=test_over"
   ]
  },
  {
   "cell_type": "code",
   "execution_count": 22,
   "metadata": {},
   "outputs": [
    {
     "data": {
      "text/plain": [
       "1    3177\n",
       "0    3177\n",
       "Name: TenYearCHD, dtype: int64"
      ]
     },
     "execution_count": 22,
     "metadata": {},
     "output_type": "execute_result"
    }
   ],
   "source": [
    "data['TenYearCHD'].value_counts()"
   ]
  },
  {
   "cell_type": "code",
   "execution_count": null,
   "metadata": {},
   "outputs": [],
   "source": []
  },
  {
   "cell_type": "code",
   "execution_count": 23,
   "metadata": {},
   "outputs": [
    {
     "name": "stdout",
     "output_type": "stream",
     "text": [
      "<class 'pandas.core.frame.DataFrame'>\n",
      "Int64Index: 6354 entries, 1631 to 4237\n",
      "Data columns (total 15 columns):\n",
      " #   Column           Non-Null Count  Dtype  \n",
      "---  ------           --------------  -----  \n",
      " 0   male             6354 non-null   int64  \n",
      " 1   age              6354 non-null   int64  \n",
      " 2   currentSmoker    6354 non-null   int64  \n",
      " 3   cigsPerDay       6354 non-null   float64\n",
      " 4   BPMeds           6354 non-null   float64\n",
      " 5   prevalentStroke  6354 non-null   int64  \n",
      " 6   prevalentHyp     6354 non-null   int64  \n",
      " 7   diabetes         6354 non-null   int64  \n",
      " 8   totChol          6354 non-null   float64\n",
      " 9   sysBP            6354 non-null   float64\n",
      " 10  diaBP            6354 non-null   float64\n",
      " 11  BMI              6354 non-null   float64\n",
      " 12  heartRate        6354 non-null   float64\n",
      " 13  glucose          6354 non-null   float64\n",
      " 14  TenYearCHD       6354 non-null   int64  \n",
      "dtypes: float64(8), int64(7)\n",
      "memory usage: 794.2 KB\n"
     ]
    }
   ],
   "source": [
    "data.info()"
   ]
  },
  {
   "cell_type": "code",
   "execution_count": 24,
   "metadata": {},
   "outputs": [
    {
     "data": {
      "text/html": [
       "<div>\n",
       "<style scoped>\n",
       "    .dataframe tbody tr th:only-of-type {\n",
       "        vertical-align: middle;\n",
       "    }\n",
       "\n",
       "    .dataframe tbody tr th {\n",
       "        vertical-align: top;\n",
       "    }\n",
       "\n",
       "    .dataframe thead th {\n",
       "        text-align: right;\n",
       "    }\n",
       "</style>\n",
       "<table border=\"1\" class=\"dataframe\">\n",
       "  <thead>\n",
       "    <tr style=\"text-align: right;\">\n",
       "      <th></th>\n",
       "      <th>male</th>\n",
       "      <th>age</th>\n",
       "      <th>currentSmoker</th>\n",
       "      <th>cigsPerDay</th>\n",
       "      <th>BPMeds</th>\n",
       "      <th>prevalentStroke</th>\n",
       "      <th>prevalentHyp</th>\n",
       "      <th>diabetes</th>\n",
       "      <th>totChol</th>\n",
       "      <th>sysBP</th>\n",
       "      <th>diaBP</th>\n",
       "      <th>BMI</th>\n",
       "      <th>heartRate</th>\n",
       "      <th>glucose</th>\n",
       "      <th>TenYearCHD</th>\n",
       "    </tr>\n",
       "  </thead>\n",
       "  <tbody>\n",
       "    <tr>\n",
       "      <th>count</th>\n",
       "      <td>6354.000000</td>\n",
       "      <td>6354.000000</td>\n",
       "      <td>6354.000000</td>\n",
       "      <td>6354.000000</td>\n",
       "      <td>6354.000000</td>\n",
       "      <td>6354.000000</td>\n",
       "      <td>6354.000000</td>\n",
       "      <td>6354.000000</td>\n",
       "      <td>6354.000000</td>\n",
       "      <td>6354.000000</td>\n",
       "      <td>6354.000000</td>\n",
       "      <td>6354.000000</td>\n",
       "      <td>6354.000000</td>\n",
       "      <td>6354.000000</td>\n",
       "      <td>6354.000000</td>\n",
       "    </tr>\n",
       "    <tr>\n",
       "      <th>mean</th>\n",
       "      <td>0.483947</td>\n",
       "      <td>51.596632</td>\n",
       "      <td>0.496380</td>\n",
       "      <td>9.537614</td>\n",
       "      <td>0.043752</td>\n",
       "      <td>0.008499</td>\n",
       "      <td>0.391250</td>\n",
       "      <td>0.043280</td>\n",
       "      <td>240.716714</td>\n",
       "      <td>137.057995</td>\n",
       "      <td>84.668949</td>\n",
       "      <td>26.188828</td>\n",
       "      <td>76.105603</td>\n",
       "      <td>84.997325</td>\n",
       "      <td>0.500000</td>\n",
       "    </tr>\n",
       "    <tr>\n",
       "      <th>std</th>\n",
       "      <td>0.499782</td>\n",
       "      <td>8.614952</td>\n",
       "      <td>0.500026</td>\n",
       "      <td>12.329833</td>\n",
       "      <td>0.204559</td>\n",
       "      <td>0.091802</td>\n",
       "      <td>0.488068</td>\n",
       "      <td>0.203502</td>\n",
       "      <td>46.542470</td>\n",
       "      <td>24.886847</td>\n",
       "      <td>13.371091</td>\n",
       "      <td>4.342654</td>\n",
       "      <td>12.041079</td>\n",
       "      <td>32.913260</td>\n",
       "      <td>0.500039</td>\n",
       "    </tr>\n",
       "    <tr>\n",
       "      <th>min</th>\n",
       "      <td>0.000000</td>\n",
       "      <td>32.000000</td>\n",
       "      <td>0.000000</td>\n",
       "      <td>0.000000</td>\n",
       "      <td>0.000000</td>\n",
       "      <td>0.000000</td>\n",
       "      <td>0.000000</td>\n",
       "      <td>0.000000</td>\n",
       "      <td>113.000000</td>\n",
       "      <td>83.500000</td>\n",
       "      <td>48.000000</td>\n",
       "      <td>15.540000</td>\n",
       "      <td>44.000000</td>\n",
       "      <td>40.000000</td>\n",
       "      <td>0.000000</td>\n",
       "    </tr>\n",
       "    <tr>\n",
       "      <th>25%</th>\n",
       "      <td>0.000000</td>\n",
       "      <td>45.000000</td>\n",
       "      <td>0.000000</td>\n",
       "      <td>0.000000</td>\n",
       "      <td>0.000000</td>\n",
       "      <td>0.000000</td>\n",
       "      <td>0.000000</td>\n",
       "      <td>0.000000</td>\n",
       "      <td>210.000000</td>\n",
       "      <td>119.000000</td>\n",
       "      <td>75.500000</td>\n",
       "      <td>23.280000</td>\n",
       "      <td>68.000000</td>\n",
       "      <td>72.000000</td>\n",
       "      <td>0.000000</td>\n",
       "    </tr>\n",
       "    <tr>\n",
       "      <th>50%</th>\n",
       "      <td>0.000000</td>\n",
       "      <td>52.000000</td>\n",
       "      <td>0.000000</td>\n",
       "      <td>0.000000</td>\n",
       "      <td>0.000000</td>\n",
       "      <td>0.000000</td>\n",
       "      <td>0.000000</td>\n",
       "      <td>0.000000</td>\n",
       "      <td>238.000000</td>\n",
       "      <td>132.000000</td>\n",
       "      <td>83.000000</td>\n",
       "      <td>25.780000</td>\n",
       "      <td>75.000000</td>\n",
       "      <td>78.000000</td>\n",
       "      <td>0.500000</td>\n",
       "    </tr>\n",
       "    <tr>\n",
       "      <th>75%</th>\n",
       "      <td>1.000000</td>\n",
       "      <td>59.000000</td>\n",
       "      <td>1.000000</td>\n",
       "      <td>20.000000</td>\n",
       "      <td>0.000000</td>\n",
       "      <td>0.000000</td>\n",
       "      <td>1.000000</td>\n",
       "      <td>0.000000</td>\n",
       "      <td>266.000000</td>\n",
       "      <td>150.000000</td>\n",
       "      <td>92.000000</td>\n",
       "      <td>28.577500</td>\n",
       "      <td>83.000000</td>\n",
       "      <td>88.000000</td>\n",
       "      <td>1.000000</td>\n",
       "    </tr>\n",
       "    <tr>\n",
       "      <th>max</th>\n",
       "      <td>1.000000</td>\n",
       "      <td>70.000000</td>\n",
       "      <td>1.000000</td>\n",
       "      <td>70.000000</td>\n",
       "      <td>1.000000</td>\n",
       "      <td>1.000000</td>\n",
       "      <td>1.000000</td>\n",
       "      <td>1.000000</td>\n",
       "      <td>696.000000</td>\n",
       "      <td>295.000000</td>\n",
       "      <td>142.500000</td>\n",
       "      <td>56.800000</td>\n",
       "      <td>143.000000</td>\n",
       "      <td>394.000000</td>\n",
       "      <td>1.000000</td>\n",
       "    </tr>\n",
       "  </tbody>\n",
       "</table>\n",
       "</div>"
      ],
      "text/plain": [
       "              male          age  currentSmoker   cigsPerDay       BPMeds  \\\n",
       "count  6354.000000  6354.000000    6354.000000  6354.000000  6354.000000   \n",
       "mean      0.483947    51.596632       0.496380     9.537614     0.043752   \n",
       "std       0.499782     8.614952       0.500026    12.329833     0.204559   \n",
       "min       0.000000    32.000000       0.000000     0.000000     0.000000   \n",
       "25%       0.000000    45.000000       0.000000     0.000000     0.000000   \n",
       "50%       0.000000    52.000000       0.000000     0.000000     0.000000   \n",
       "75%       1.000000    59.000000       1.000000    20.000000     0.000000   \n",
       "max       1.000000    70.000000       1.000000    70.000000     1.000000   \n",
       "\n",
       "       prevalentStroke  prevalentHyp     diabetes      totChol        sysBP  \\\n",
       "count      6354.000000   6354.000000  6354.000000  6354.000000  6354.000000   \n",
       "mean          0.008499      0.391250     0.043280   240.716714   137.057995   \n",
       "std           0.091802      0.488068     0.203502    46.542470    24.886847   \n",
       "min           0.000000      0.000000     0.000000   113.000000    83.500000   \n",
       "25%           0.000000      0.000000     0.000000   210.000000   119.000000   \n",
       "50%           0.000000      0.000000     0.000000   238.000000   132.000000   \n",
       "75%           0.000000      1.000000     0.000000   266.000000   150.000000   \n",
       "max           1.000000      1.000000     1.000000   696.000000   295.000000   \n",
       "\n",
       "             diaBP          BMI    heartRate      glucose   TenYearCHD  \n",
       "count  6354.000000  6354.000000  6354.000000  6354.000000  6354.000000  \n",
       "mean     84.668949    26.188828    76.105603    84.997325     0.500000  \n",
       "std      13.371091     4.342654    12.041079    32.913260     0.500039  \n",
       "min      48.000000    15.540000    44.000000    40.000000     0.000000  \n",
       "25%      75.500000    23.280000    68.000000    72.000000     0.000000  \n",
       "50%      83.000000    25.780000    75.000000    78.000000     0.500000  \n",
       "75%      92.000000    28.577500    83.000000    88.000000     1.000000  \n",
       "max     142.500000    56.800000   143.000000   394.000000     1.000000  "
      ]
     },
     "execution_count": 24,
     "metadata": {},
     "output_type": "execute_result"
    }
   ],
   "source": [
    "data.describe()"
   ]
  },
  {
   "cell_type": "code",
   "execution_count": 25,
   "metadata": {},
   "outputs": [],
   "source": [
    "data.rename(columns={'male':'gender'},inplace=True)"
   ]
  },
  {
   "cell_type": "code",
   "execution_count": 26,
   "metadata": {},
   "outputs": [
    {
     "data": {
      "text/plain": [
       "Index(['gender', 'age', 'currentSmoker', 'cigsPerDay', 'BPMeds',\n",
       "       'prevalentStroke', 'prevalentHyp', 'diabetes', 'totChol', 'sysBP',\n",
       "       'diaBP', 'BMI', 'heartRate', 'glucose', 'TenYearCHD'],\n",
       "      dtype='object')"
      ]
     },
     "execution_count": 26,
     "metadata": {},
     "output_type": "execute_result"
    }
   ],
   "source": [
    "data.columns"
   ]
  },
  {
   "cell_type": "code",
   "execution_count": 27,
   "metadata": {},
   "outputs": [],
   "source": [
    "from sklearn import preprocessing\n",
    "scaled_features = data.copy()\n",
    "col_names = ['age', 'currentSmoker', 'cigsPerDay', 'BPMeds','prevalentStroke', 'prevalentHyp', 'diabetes', 'totChol', 'sysBP','diaBP', 'BMI', 'heartRate', 'glucose', 'TenYearCHD']\n",
    "label_names = ['gender']\n",
    "features = scaled_features[col_names]\n",
    "scaler = preprocessing.StandardScaler().fit(features.values)\n",
    "features = scaler.transform(features.values)\n",
    "scaled_features = pd.get_dummies(scaled_features, columns=label_names)\n",
    "scaled_features[col_names] = features"
   ]
  },
  {
   "cell_type": "code",
   "execution_count": 28,
   "metadata": {},
   "outputs": [
    {
     "name": "stdout",
     "output_type": "stream",
     "text": [
      "<class 'pandas.core.frame.DataFrame'>\n",
      "Int64Index: 6354 entries, 1631 to 4237\n",
      "Data columns (total 16 columns):\n",
      " #   Column           Non-Null Count  Dtype  \n",
      "---  ------           --------------  -----  \n",
      " 0   age              6354 non-null   float64\n",
      " 1   currentSmoker    6354 non-null   float64\n",
      " 2   cigsPerDay       6354 non-null   float64\n",
      " 3   BPMeds           6354 non-null   float64\n",
      " 4   prevalentStroke  6354 non-null   float64\n",
      " 5   prevalentHyp     6354 non-null   float64\n",
      " 6   diabetes         6354 non-null   float64\n",
      " 7   totChol          6354 non-null   float64\n",
      " 8   sysBP            6354 non-null   float64\n",
      " 9   diaBP            6354 non-null   float64\n",
      " 10  BMI              6354 non-null   float64\n",
      " 11  heartRate        6354 non-null   float64\n",
      " 12  glucose          6354 non-null   float64\n",
      " 13  TenYearCHD       6354 non-null   float64\n",
      " 14  gender_0         6354 non-null   uint8  \n",
      " 15  gender_1         6354 non-null   uint8  \n",
      "dtypes: float64(14), uint8(2)\n",
      "memory usage: 757.0 KB\n"
     ]
    }
   ],
   "source": [
    "scaled_features.info()"
   ]
  },
  {
   "cell_type": "code",
   "execution_count": 29,
   "metadata": {},
   "outputs": [],
   "source": [
    "data=scaled_features"
   ]
  },
  {
   "cell_type": "code",
   "execution_count": 30,
   "metadata": {},
   "outputs": [
    {
     "name": "stdout",
     "output_type": "stream",
     "text": [
      "<class 'pandas.core.frame.DataFrame'>\n",
      "Int64Index: 6354 entries, 1631 to 4237\n",
      "Data columns (total 16 columns):\n",
      " #   Column           Non-Null Count  Dtype  \n",
      "---  ------           --------------  -----  \n",
      " 0   age              6354 non-null   float64\n",
      " 1   currentSmoker    6354 non-null   float64\n",
      " 2   cigsPerDay       6354 non-null   float64\n",
      " 3   BPMeds           6354 non-null   float64\n",
      " 4   prevalentStroke  6354 non-null   float64\n",
      " 5   prevalentHyp     6354 non-null   float64\n",
      " 6   diabetes         6354 non-null   float64\n",
      " 7   totChol          6354 non-null   float64\n",
      " 8   sysBP            6354 non-null   float64\n",
      " 9   diaBP            6354 non-null   float64\n",
      " 10  BMI              6354 non-null   float64\n",
      " 11  heartRate        6354 non-null   float64\n",
      " 12  glucose          6354 non-null   float64\n",
      " 13  TenYearCHD       6354 non-null   float64\n",
      " 14  gender_0         6354 non-null   uint8  \n",
      " 15  gender_1         6354 non-null   uint8  \n",
      "dtypes: float64(14), uint8(2)\n",
      "memory usage: 757.0 KB\n"
     ]
    }
   ],
   "source": [
    "data.info()"
   ]
  },
  {
   "cell_type": "code",
   "execution_count": 31,
   "metadata": {},
   "outputs": [],
   "source": [
    "data=data.astype({'gender_0': int,'gender_1': int})"
   ]
  },
  {
   "cell_type": "code",
   "execution_count": 32,
   "metadata": {},
   "outputs": [
    {
     "name": "stdout",
     "output_type": "stream",
     "text": [
      "<class 'pandas.core.frame.DataFrame'>\n",
      "Int64Index: 6354 entries, 1631 to 4237\n",
      "Data columns (total 16 columns):\n",
      " #   Column           Non-Null Count  Dtype  \n",
      "---  ------           --------------  -----  \n",
      " 0   age              6354 non-null   float64\n",
      " 1   currentSmoker    6354 non-null   float64\n",
      " 2   cigsPerDay       6354 non-null   float64\n",
      " 3   BPMeds           6354 non-null   float64\n",
      " 4   prevalentStroke  6354 non-null   float64\n",
      " 5   prevalentHyp     6354 non-null   float64\n",
      " 6   diabetes         6354 non-null   float64\n",
      " 7   totChol          6354 non-null   float64\n",
      " 8   sysBP            6354 non-null   float64\n",
      " 9   diaBP            6354 non-null   float64\n",
      " 10  BMI              6354 non-null   float64\n",
      " 11  heartRate        6354 non-null   float64\n",
      " 12  glucose          6354 non-null   float64\n",
      " 13  TenYearCHD       6354 non-null   float64\n",
      " 14  gender_0         6354 non-null   int32  \n",
      " 15  gender_1         6354 non-null   int32  \n",
      "dtypes: float64(14), int32(2)\n",
      "memory usage: 794.2 KB\n"
     ]
    }
   ],
   "source": [
    "data.info()"
   ]
  },
  {
   "cell_type": "code",
   "execution_count": 33,
   "metadata": {},
   "outputs": [],
   "source": [
    "data.rename(columns={'gender_0':'female','gender_1':'male'},inplace=True)"
   ]
  },
  {
   "cell_type": "code",
   "execution_count": 34,
   "metadata": {},
   "outputs": [
    {
     "name": "stdout",
     "output_type": "stream",
     "text": [
      "<class 'pandas.core.frame.DataFrame'>\n",
      "Int64Index: 6354 entries, 1631 to 4237\n",
      "Data columns (total 16 columns):\n",
      " #   Column           Non-Null Count  Dtype  \n",
      "---  ------           --------------  -----  \n",
      " 0   age              6354 non-null   float64\n",
      " 1   currentSmoker    6354 non-null   float64\n",
      " 2   cigsPerDay       6354 non-null   float64\n",
      " 3   BPMeds           6354 non-null   float64\n",
      " 4   prevalentStroke  6354 non-null   float64\n",
      " 5   prevalentHyp     6354 non-null   float64\n",
      " 6   diabetes         6354 non-null   float64\n",
      " 7   totChol          6354 non-null   float64\n",
      " 8   sysBP            6354 non-null   float64\n",
      " 9   diaBP            6354 non-null   float64\n",
      " 10  BMI              6354 non-null   float64\n",
      " 11  heartRate        6354 non-null   float64\n",
      " 12  glucose          6354 non-null   float64\n",
      " 13  TenYearCHD       6354 non-null   float64\n",
      " 14  female           6354 non-null   int32  \n",
      " 15  male             6354 non-null   int32  \n",
      "dtypes: float64(14), int32(2)\n",
      "memory usage: 794.2 KB\n"
     ]
    }
   ],
   "source": [
    "data.info()"
   ]
  },
  {
   "cell_type": "code",
   "execution_count": 35,
   "metadata": {},
   "outputs": [
    {
     "data": {
      "text/plain": [
       "Index(['age', 'currentSmoker', 'cigsPerDay', 'BPMeds', 'prevalentStroke',\n",
       "       'prevalentHyp', 'diabetes', 'totChol', 'sysBP', 'diaBP', 'BMI',\n",
       "       'heartRate', 'glucose', 'TenYearCHD', 'female', 'male'],\n",
       "      dtype='object')"
      ]
     },
     "execution_count": 35,
     "metadata": {},
     "output_type": "execute_result"
    }
   ],
   "source": [
    "data.columns"
   ]
  },
  {
   "cell_type": "code",
   "execution_count": 36,
   "metadata": {},
   "outputs": [],
   "source": [
    "y=data['TenYearCHD']"
   ]
  },
  {
   "cell_type": "code",
   "execution_count": 37,
   "metadata": {},
   "outputs": [],
   "source": [
    "X=data[['age', 'currentSmoker', 'cigsPerDay', 'BPMeds', 'prevalentStroke',\n",
    "       'prevalentHyp', 'diabetes', 'totChol', 'sysBP', 'diaBP', 'BMI',\n",
    "       'heartRate', 'glucose','female', 'male']]"
   ]
  },
  {
   "cell_type": "code",
   "execution_count": 38,
   "metadata": {},
   "outputs": [
    {
     "name": "stdout",
     "output_type": "stream",
     "text": [
      "<class 'pandas.core.frame.DataFrame'>\n",
      "Int64Index: 6354 entries, 1631 to 4237\n",
      "Data columns (total 15 columns):\n",
      " #   Column           Non-Null Count  Dtype  \n",
      "---  ------           --------------  -----  \n",
      " 0   age              6354 non-null   float64\n",
      " 1   currentSmoker    6354 non-null   float64\n",
      " 2   cigsPerDay       6354 non-null   float64\n",
      " 3   BPMeds           6354 non-null   float64\n",
      " 4   prevalentStroke  6354 non-null   float64\n",
      " 5   prevalentHyp     6354 non-null   float64\n",
      " 6   diabetes         6354 non-null   float64\n",
      " 7   totChol          6354 non-null   float64\n",
      " 8   sysBP            6354 non-null   float64\n",
      " 9   diaBP            6354 non-null   float64\n",
      " 10  BMI              6354 non-null   float64\n",
      " 11  heartRate        6354 non-null   float64\n",
      " 12  glucose          6354 non-null   float64\n",
      " 13  female           6354 non-null   int32  \n",
      " 14  male             6354 non-null   int32  \n",
      "dtypes: float64(13), int32(2)\n",
      "memory usage: 744.6 KB\n"
     ]
    }
   ],
   "source": [
    "X.info()"
   ]
  },
  {
   "cell_type": "code",
   "execution_count": 39,
   "metadata": {},
   "outputs": [
    {
     "data": {
      "text/plain": [
       "(6354, 15)"
      ]
     },
     "execution_count": 39,
     "metadata": {},
     "output_type": "execute_result"
    }
   ],
   "source": [
    "X.shape"
   ]
  },
  {
   "cell_type": "code",
   "execution_count": 40,
   "metadata": {},
   "outputs": [
    {
     "data": {
      "text/plain": [
       "(6354,)"
      ]
     },
     "execution_count": 40,
     "metadata": {},
     "output_type": "execute_result"
    }
   ],
   "source": [
    "y.shape"
   ]
  },
  {
   "cell_type": "code",
   "execution_count": 41,
   "metadata": {},
   "outputs": [],
   "source": [
    "from sklearn import metrics\n",
    "from sklearn.model_selection import train_test_split"
   ]
  },
  {
   "cell_type": "code",
   "execution_count": 42,
   "metadata": {},
   "outputs": [],
   "source": [
    "X_train, X_test, y_train, y_test = train_test_split(X, y, test_size=0.236, random_state=1000)"
   ]
  },
  {
   "cell_type": "code",
   "execution_count": 43,
   "metadata": {},
   "outputs": [
    {
     "data": {
      "text/plain": [
       "(4854, 15)"
      ]
     },
     "execution_count": 43,
     "metadata": {},
     "output_type": "execute_result"
    }
   ],
   "source": [
    "X_train.shape"
   ]
  },
  {
   "cell_type": "code",
   "execution_count": 44,
   "metadata": {},
   "outputs": [
    {
     "data": {
      "text/plain": [
       "(1500, 15)"
      ]
     },
     "execution_count": 44,
     "metadata": {},
     "output_type": "execute_result"
    }
   ],
   "source": [
    "X_test.shape"
   ]
  },
  {
   "cell_type": "code",
   "execution_count": 45,
   "metadata": {},
   "outputs": [
    {
     "data": {
      "text/plain": [
       "(4854,)"
      ]
     },
     "execution_count": 45,
     "metadata": {},
     "output_type": "execute_result"
    }
   ],
   "source": [
    "y_train.shape"
   ]
  },
  {
   "cell_type": "code",
   "execution_count": 46,
   "metadata": {},
   "outputs": [
    {
     "data": {
      "text/plain": [
       "(1500,)"
      ]
     },
     "execution_count": 46,
     "metadata": {},
     "output_type": "execute_result"
    }
   ],
   "source": [
    "y_test.shape"
   ]
  },
  {
   "cell_type": "code",
   "execution_count": 47,
   "metadata": {},
   "outputs": [
    {
     "name": "stdout",
     "output_type": "stream",
     "text": [
      "66.60000000000001\n"
     ]
    }
   ],
   "source": [
    "from sklearn.linear_model import LogisticRegression\n",
    "LR=LogisticRegression(random_state=0,max_iter=3000)\n",
    "LR.fit(X_train, y_train)\n",
    "p1=LR.score(X_test,y_test)*100\n",
    "print(p1)"
   ]
  },
  {
   "cell_type": "code",
   "execution_count": 48,
   "metadata": {},
   "outputs": [
    {
     "name": "stdout",
     "output_type": "stream",
     "text": [
      "69.93333333333334\n"
     ]
    }
   ],
   "source": [
    "from sklearn.ensemble import AdaBoostClassifier\n",
    "ADA=AdaBoostClassifier()\n",
    "ADA.fit(X_train, y_train)\n",
    "p2=ADA.score(X_test,y_test)*100\n",
    "print(p2)"
   ]
  },
  {
   "cell_type": "code",
   "execution_count": 49,
   "metadata": {},
   "outputs": [
    {
     "name": "stdout",
     "output_type": "stream",
     "text": [
      "96.86666666666667\n"
     ]
    }
   ],
   "source": [
    "from sklearn.ensemble import RandomForestClassifier\n",
    "RF=RandomForestClassifier(max_features='auto', n_estimators=200)\n",
    "RF.fit(X_train, y_train)\n",
    "p3=RF.score(X_test,y_test)*100\n",
    "print(p3)"
   ]
  },
  {
   "cell_type": "code",
   "execution_count": 50,
   "metadata": {},
   "outputs": [
    {
     "name": "stdout",
     "output_type": "stream",
     "text": [
      "90.60000000000001\n"
     ]
    }
   ],
   "source": [
    "from sklearn.tree import DecisionTreeClassifier\n",
    "DC=DecisionTreeClassifier()\n",
    "DC.fit(X_train, y_train)\n",
    "p4=DC.score(X_test,y_test)*100\n",
    "print(p4)"
   ]
  },
  {
   "cell_type": "code",
   "execution_count": 51,
   "metadata": {},
   "outputs": [
    {
     "name": "stdout",
     "output_type": "stream",
     "text": [
      "62.2\n"
     ]
    }
   ],
   "source": [
    "from sklearn.naive_bayes import GaussianNB\n",
    "GB=GaussianNB()\n",
    "GB.fit(X_train,y_train)\n",
    "p5=GB.score(X_test,y_test)*100\n",
    "print(p5)"
   ]
  },
  {
   "cell_type": "code",
   "execution_count": 52,
   "metadata": {},
   "outputs": [
    {
     "data": {
      "image/png": "[encoded data removed]",
      "text/plain": [
       "<Figure size 1152x432 with 1 Axes>"
      ]
     },
     "metadata": {},
     "output_type": "display_data"
    }
   ],
   "source": [
    "a=[\"LogisticRegression\",\"AdaBoostClassifier\",\"RandomForestClassifier\",\"DecisionTreeClassifier\",\"GaussianNB\"]\n",
    "b=[p1,p2,p3,p4,p5]\n",
    "plt.figure(figsize=(16,6))\n",
    "plt.bar(a,b,width=0.5,color='blue')\n",
    "plt.title(\"Accuracy Graph\")\n",
    "plt.xlabel(\"Algorithm\")\n",
    "plt.ylabel(\"percentage\")\n",
    "plt.show()"
   ]
  },
  {
   "cell_type": "code",
   "execution_count": 53,
   "metadata": {},
   "outputs": [],
   "source": [
    "import pickle\n",
    "with open(\"dataset_and_model/heart_model.pickle\",\"wb\") as g:\n",
    "    pickle.dump(RF,g,protocol=2)"
   ]
  },
  {
   "cell_type": "code",
   "execution_count": 54,
   "metadata": {},
   "outputs": [],
   "source": [
    "actual=y_test\n",
    "predicted=RF.predict(X_test)"
   ]
  },
  {
   "cell_type": "code",
   "execution_count": 55,
   "metadata": {},
   "outputs": [
    {
     "name": "stdout",
     "output_type": "stream",
     "text": [
      "Confusion matrix : \n",
      " [[  0   0]\n",
      " [  0 752]]\n"
     ]
    }
   ],
   "source": [
    "# confusion matrix\n",
    "from sklearn.metrics import confusion_matrix\n",
    "matrix = confusion_matrix(actual,predicted, labels=[0,1])\n",
    "print('Confusion matrix : \\n',matrix)"
   ]
  },
  {
   "cell_type": "code",
   "execution_count": 56,
   "metadata": {},
   "outputs": [
    {
     "name": "stdout",
     "output_type": "stream",
     "text": [
      "Outcome values : \n",
      " 752 0 0 0\n",
      "True positive :  752\n",
      "False negative:  0\n",
      "False positive:  0\n",
      "True negative :  0\n"
     ]
    }
   ],
   "source": [
    "# outcome values order in sklearn\n",
    "tp, fn, fp, tn = confusion_matrix(actual,predicted,labels=[1,0]).reshape(-1)\n",
    "print('Outcome values : \\n', tp, fn, fp, tn)\n",
    "print(\"True positive : \",tp)\n",
    "print(\"False negative: \",fn)\n",
    "print(\"False positive: \",fp)\n",
    "print(\"True negative : \",tn)"
   ]
  },
  {
   "cell_type": "code",
   "execution_count": 57,
   "metadata": {},
   "outputs": [
    {
     "name": "stdout",
     "output_type": "stream",
     "text": [
      "Classification report : \n",
      "               precision    recall  f1-score   support\n",
      "\n",
      "           1       0.95      0.99      0.97       757\n",
      "           0       0.00      0.00      0.00         0\n",
      "\n",
      "   micro avg       0.95      0.99      0.97       757\n",
      "   macro avg       0.47      0.50      0.48       757\n",
      "weighted avg       0.95      0.99      0.97       757\n",
      "\n"
     ]
    },
    {
     "name": "stderr",
     "output_type": "stream",
     "text": [
      "C:\\Users\\NISHA D\\.conda\\envs\\R\\lib\\site-packages\\sklearn\\metrics\\_classification.py:1318: UndefinedMetricWarning: Precision and F-score are ill-defined and being set to 0.0 in labels with no predicted samples. Use `zero_division` parameter to control this behavior.\n",
      "  _warn_prf(average, modifier, msg_start, len(result))\n",
      "C:\\Users\\NISHA D\\.conda\\envs\\R\\lib\\site-packages\\sklearn\\metrics\\_classification.py:1318: UndefinedMetricWarning: Recall and F-score are ill-defined and being set to 0.0 in labels with no true samples. Use `zero_division` parameter to control this behavior.\n",
      "  _warn_prf(average, modifier, msg_start, len(result))\n",
      "C:\\Users\\NISHA D\\.conda\\envs\\R\\lib\\site-packages\\sklearn\\metrics\\_classification.py:1318: UndefinedMetricWarning: Precision and F-score are ill-defined and being set to 0.0 in labels with no predicted samples. Use `zero_division` parameter to control this behavior.\n",
      "  _warn_prf(average, modifier, msg_start, len(result))\n",
      "C:\\Users\\NISHA D\\.conda\\envs\\R\\lib\\site-packages\\sklearn\\metrics\\_classification.py:1318: UndefinedMetricWarning: Recall and F-score are ill-defined and being set to 0.0 in labels with no true samples. Use `zero_division` parameter to control this behavior.\n",
      "  _warn_prf(average, modifier, msg_start, len(result))\n",
      "C:\\Users\\NISHA D\\.conda\\envs\\R\\lib\\site-packages\\sklearn\\metrics\\_classification.py:1318: UndefinedMetricWarning: Precision and F-score are ill-defined and being set to 0.0 in labels with no predicted samples. Use `zero_division` parameter to control this behavior.\n",
      "  _warn_prf(average, modifier, msg_start, len(result))\n",
      "C:\\Users\\NISHA D\\.conda\\envs\\R\\lib\\site-packages\\sklearn\\metrics\\_classification.py:1318: UndefinedMetricWarning: Recall and F-score are ill-defined and being set to 0.0 in labels with no true samples. Use `zero_division` parameter to control this behavior.\n",
      "  _warn_prf(average, modifier, msg_start, len(result))\n"
     ]
    }
   ],
   "source": [
    "# classification report for precision, recall f1-score and accuracy\n",
    "from sklearn.metrics import classification_report\n",
    "matrix = classification_report(actual,predicted,labels=[1,0])\n",
    "print('Classification report : \\n',matrix)"
   ]
  },
  {
   "cell_type": "code",
   "execution_count": 58,
   "metadata": {},
   "outputs": [
    {
     "data": {
      "image/png": "[encoded data removed]",
      "text/plain": [
       "<Figure size 864x432 with 2 Axes>"
      ]
     },
     "metadata": {},
     "output_type": "display_data"
    }
   ],
   "source": [
    "import seaborn as sns\n",
    "output_labels=['No Heart disease','Heart disease']\n",
    "cm = confusion_matrix(actual,predicted)\n",
    "#print(cm)\n",
    "cm=pd.DataFrame(cm,index=['0','1'],columns=['0','1'])\n",
    "plt.figure(figsize=(12,6))\n",
    "sns.heatmap(cm,cmap='Blues',annot=True,fmt='',xticklabels=output_labels,yticklabels=output_labels)\n",
    "plt.xlabel(\"Predicted data\")\n",
    "plt.ylabel(\"Actual data\")\n",
    "plt.show()"
   ]
  },
  {
   "cell_type": "code",
   "execution_count": 59,
   "metadata": {},
   "outputs": [
    {
     "data": {
      "text/plain": [
       " 1.0    757\n",
       "-1.0    743\n",
       "Name: TenYearCHD, dtype: int64"
      ]
     },
     "execution_count": 59,
     "metadata": {},
     "output_type": "execute_result"
    }
   ],
   "source": [
    "actual.value_counts()"
   ]
  },
  {
   "cell_type": "code",
   "execution_count": 60,
   "metadata": {},
   "outputs": [
    {
     "data": {
      "text/plain": [
       " 1.0    794\n",
       "-1.0    706\n",
       "dtype: int64"
      ]
     },
     "execution_count": 60,
     "metadata": {},
     "output_type": "execute_result"
    }
   ],
   "source": [
    "predicted=pd.DataFrame(predicted)\n",
    "predicted.value_counts()"
   ]
  },
  {
   "cell_type": "code",
   "execution_count": 61,
   "metadata": {},
   "outputs": [
    {
     "data": {
      "image/png": "[encoded data removed]",
      "text/plain": [
       "<Figure size 864x216 with 1 Axes>"
      ]
     },
     "metadata": {},
     "output_type": "display_data"
    }
   ],
   "source": [
    "x=np.array([0,1])\n",
    "width = 0.3\n",
    "plt.figure(figsize=(12,3))\n",
    "plt.barh(x-0.2,actual.value_counts(), width, color='cyan')\n",
    "plt.barh(x+0.2,predicted.value_counts(), width, color='orange')\n",
    "plt.yticks(x, ['No Heart disease','Heart disease'])\n",
    "plt.title(\"Comparision chart\")\n",
    "plt.xlabel(\"no of data\")\n",
    "plt.ylabel(\"Presence of Heart disease\")\n",
    "plt.legend([\"actual\", \"predicted\"])\n",
    "plt.show()\n"
   ]
  },
  {
   "cell_type": "code",
   "execution_count": 62,
   "metadata": {},
   "outputs": [
    {
     "data": {
      "text/html": [
       "<details>\n",
       "<summary>Click to view session information</summary>\n",
       "<pre>\n",
       "-----\n",
       "matplotlib          3.5.1\n",
       "numpy               1.22.2\n",
       "pandas              1.4.1\n",
       "seaborn             0.11.2\n",
       "session_info        1.0.0\n",
       "sklearn             1.0.2\n",
       "-----\n",
       "</pre>\n",
       "<details>\n",
       "<summary>Click to view modules imported as dependencies</summary>\n",
       "<pre>\n",
       "PIL                 9.0.1\n",
       "backcall            0.2.0\n",
       "beta_ufunc          NA\n",
       "binom_ufunc         NA\n",
       "cffi                1.14.5\n",
       "colorama            0.4.4\n",
       "cycler              0.10.0\n",
       "cython_runtime      NA\n",
       "dateutil            2.8.1\n",
       "decorator           5.0.6\n",
       "defusedxml          0.7.1\n",
       "google              NA\n",
       "hypergeom_ufunc     NA\n",
       "ipykernel           5.3.4\n",
       "ipython_genutils    0.2.0\n",
       "jedi                0.17.2\n",
       "joblib              1.1.0\n",
       "kiwisolver          1.3.2\n",
       "mpl_toolkits        NA\n",
       "nbinom_ufunc        NA\n",
       "nt                  NA\n",
       "ntsecuritycon       NA\n",
       "packaging           20.9\n",
       "parso               0.7.0\n",
       "pickleshare         0.7.5\n",
       "prompt_toolkit      3.0.17\n",
       "pyexpat             NA\n",
       "pygments            2.8.1\n",
       "pyparsing           2.4.7\n",
       "pytz                2021.3\n",
       "scipy               1.8.0\n",
       "six                 1.15.0\n",
       "storemagic          NA\n",
       "threadpoolctl       3.1.0\n",
       "tornado             6.1\n",
       "traitlets           5.0.5\n",
       "typing_extensions   NA\n",
       "wcwidth             0.2.5\n",
       "win32api            NA\n",
       "win32security       NA\n",
       "zmq                 20.0.0\n",
       "</pre>\n",
       "</details> <!-- seems like this ends pre, so might as well be explicit -->\n",
       "<pre>\n",
       "-----\n",
       "IPython             7.22.0\n",
       "jupyter_client      6.1.12\n",
       "jupyter_core        4.7.1\n",
       "notebook            6.3.0\n",
       "-----\n",
       "Python 3.9.4 (default, Apr  9 2021, 11:43:21) [MSC v.1916 64 bit (AMD64)]\n",
       "Windows-10-10.0.17763-SP0\n",
       "-----\n",
       "Session information updated at 2022-05-21 19:55\n",
       "</pre>\n",
       "</details>"
      ],
      "text/plain": [
       "<IPython.core.display.HTML object>"
      ]
     },
     "execution_count": 62,
     "metadata": {},
     "output_type": "execute_result"
    }
   ],
   "source": [
    "import session_info\n",
    "session_info.show()"
   ]
  },
  {
   "cell_type": "code",
   "execution_count": null,
   "metadata": {},
   "outputs": [],
   "source": []
  }
 ],
 "metadata": {
  "kernelspec": {
   "display_name": "Python 3",
   "language": "python",
   "name": "python3"
  },
  "language_info": {
   "codemirror_mode": {
    "name": "ipython",
    "version": 3
   },
   "file_extension": ".py",
   "mimetype": "text/x-python",
   "name": "python",
   "nbconvert_exporter": "python",
   "pygments_lexer": "ipython3",
   "version": "3.9.4"
  }
 },
 "nbformat": 4,
 "nbformat_minor": 4
}
